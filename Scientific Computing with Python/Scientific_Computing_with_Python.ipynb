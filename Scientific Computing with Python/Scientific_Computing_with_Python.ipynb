{
  "nbformat": 4,
  "nbformat_minor": 0,
  "metadata": {
    "colab": {
      "provenance": [],
      "collapsed_sections": [
        "XASCMBq8hRU6",
        "mDErflF5lqvX",
        "byBC-FbseL-Z"
      ],
      "include_colab_link": true
    },
    "kernelspec": {
      "name": "python3",
      "display_name": "Python 3"
    },
    "language_info": {
      "name": "python"
    }
  },
  "cells": [
    {
      "cell_type": "markdown",
      "metadata": {
        "id": "view-in-github",
        "colab_type": "text"
      },
      "source": [
        "<a href=\"https://colab.research.google.com/github/ramoneas/FCC-Scientific-Computing-solver/blob/main/Scientific_Computing_with_Python.ipynb\" target=\"_parent\"><img src=\"https://colab.research.google.com/assets/colab-badge.svg\" alt=\"Open In Colab\"/></a>"
      ]
    },
    {
      "cell_type": "markdown",
      "source": [
        " This is a compilation of code used to resolve the **Scientific Computing with Python Certification** on freeCodeCamp Curriculum.\n",
        "\n",
        "*This code was made and belongs to **Ramón Alvarez**.*"
      ],
      "metadata": {
        "id": "VquW-dq-hhp6"
      }
    },
    {
      "cell_type": "markdown",
      "source": [
        "## **Arithmetic Formatter**\n",
        "Guide: https://www.freecodecamp.org/learn/scientific-computing-with-python/scientific-computing-with-python-projects/arithmetic-formatter"
      ],
      "metadata": {
        "id": "XASCMBq8hRU6"
      }
    },
    {
      "cell_type": "code",
      "source": [
        "def get_white_spaces(line, number):\n",
        "    # Calculate the number of white spaces needed by subtracting the length of the number from the length of the line\n",
        "    white_spaces = len(line) - len(number)\n",
        "\n",
        "    # Create a string of white spaces with a length equal to the calculated number of white spaces\n",
        "    spaces = ' ' * white_spaces\n",
        "\n",
        "    # Return the string of white spaces\n",
        "    return spaces"
      ],
      "metadata": {
        "id": "DCRKf9bkipzZ"
      },
      "execution_count": null,
      "outputs": []
    },
    {
      "cell_type": "code",
      "execution_count": null,
      "metadata": {
        "id": "OedAHB4ng738"
      },
      "outputs": [],
      "source": [
        "def arithmetic_arranger(problems, view_result = False):\n",
        "    # Initialize empty strings for operators, operands, lines, and results\n",
        "    operators = ''\n",
        "    operands = ''\n",
        "    lines = ''\n",
        "    results = ''\n",
        "    total = 0\n",
        "\n",
        "    # Check if the number of problems is greater than 5, return an error message if true\n",
        "    if len(problems) > 5:\n",
        "        return 'Error: Too many problems.'\n",
        "\n",
        "    # Loop through each problem in the list of problems\n",
        "    for item in problems:\n",
        "        # Split the problem string into number 1, sign, and number 2\n",
        "        problem = item.split()\n",
        "        number_1, sign, number_2 = problem\n",
        "\n",
        "        # Find the maximum length among number 1, sign, and number 2\n",
        "        max_ = [len(i) for i in problem]\n",
        "        max_pos = max_.index(max(max_))\n",
        "\n",
        "        # Check if the sign is not '+' or '-', return an error message if true\n",
        "        if sign != '+' and sign != '-':\n",
        "            return \"Error: Operator must be '+' or '-'.\"\n",
        "\n",
        "        # Check if number 1 or number 2 has more than 4 digits, return an error message if true\n",
        "        if len(number_1) > 4 or len(number_2) > 4:\n",
        "            return 'Error: Numbers cannot be more than four digits.'\n",
        "\n",
        "        # Check if number 1 or number 2 contains non-digit characters, return an error message if true\n",
        "        if not number_1.isdigit() or not number_2.isdigit():\n",
        "            return 'Error: Numbers must only contain digits.'\n",
        "\n",
        "        # Calculate the total based on the sign\n",
        "        if sign == '+':\n",
        "            total = int(number_1) + int(number_2)\n",
        "        else:\n",
        "            total = int(number_1) - int(number_2)\n",
        "\n",
        "        # Create a line of '-' characters with length of the maximum length among number 1, sign, and number 2\n",
        "        line = ''.join(['-' for i in range(max(max_))]) + '--'\n",
        "\n",
        "        # Remove leading spaces from the line based on the length of number 2\n",
        "        remove_spaces = get_white_spaces(line, number_2)[1:]\n",
        "\n",
        "        # Concatenate the results to the respective strings with proper formatting\n",
        "        results += f'{get_white_spaces(line, str(total))}{total}    '\n",
        "        operators += f'{get_white_spaces(line, number_1)}{number_1}    '\n",
        "        operands += f'{sign}{remove_spaces}{number_2}    '\n",
        "        lines += f'{line}    '\n",
        "\n",
        "    # Return the formatted strings with or without results based on view_result flag\n",
        "    if view_result:\n",
        "        return operators.rstrip() + '\\n' + operands.rstrip() + '\\n' + lines.rstrip() + '\\n' + results.rstrip()\n",
        "    else:\n",
        "        return operators.rstrip() + '\\n' + operands.rstrip() + '\\n' + lines.rstrip()"
      ]
    },
    {
      "cell_type": "markdown",
      "source": [
        "*How to test this code:*"
      ],
      "metadata": {
        "id": "gjZi20Xciui-"
      }
    },
    {
      "cell_type": "code",
      "source": [
        "print(arithmetic_arranger(['32 - 698', '1 - 3801', '45 + 43', '123 + 49', '988 + 40'], True))"
      ],
      "metadata": {
        "colab": {
          "base_uri": "https://localhost:8080/"
        },
        "id": "Wg_lUX8QiuFM",
        "outputId": "c4ab2475-cae6-4b9d-c98c-d7c7c19f1451"
      },
      "execution_count": null,
      "outputs": [
        {
          "output_type": "stream",
          "name": "stdout",
          "text": [
            "   32         1      45      123      988\n",
            "- 698    - 3801    + 43    +  49    +  40\n",
            "-----    ------    ----    -----    -----\n",
            " -666     -3800      88      172     1028\n"
          ]
        }
      ]
    },
    {
      "cell_type": "markdown",
      "source": [
        "## **Time Calculator**\n",
        "Guide: https://www.freecodecamp.org/learn/scientific-computing-with-python/scientific-computing-with-python-projects/time-calculator"
      ],
      "metadata": {
        "id": "mDErflF5lqvX"
      }
    },
    {
      "cell_type": "code",
      "source": [
        "clock_format_converter = {'AM':'PM', 'PM':'AM'}\n",
        "format_days = {\"monday\": \"Monday\", \"tuesday\": \"Tuesday\", \"thursday\": \"Thursday\", \"wednesday\": \"Wednesday\", \"friday\": \"Friday\", 'saturday': \"Saturday\", 'sunday': 'Sunday'}\n",
        "next_day_of_the_week = {\"Monday\": \"Tuesday\",  \"Tuesday\": \"Wednesday\", \"Wednesday\": \"Thursday\",  \"Thursday\": \"Friday\",  \"Friday\": \"Saturday\",  \"Saturday\": \"Sunday\", \"Sunday\": \"Monday\"}"
      ],
      "metadata": {
        "id": "uh0fx2YdcSwV"
      },
      "execution_count": null,
      "outputs": []
    },
    {
      "cell_type": "code",
      "source": [
        "def get_day_of_the_week(past_days, day):\n",
        "    # If day is not provided, return an empty string\n",
        "    if not day:\n",
        "        return ''\n",
        "\n",
        "    # Get the initial day based on the input day (in lowercase)\n",
        "    initial_day = format_days[day.lower()]\n",
        "    goal_day = initial_day\n",
        "\n",
        "    # Loop through the number of past days and get the goal day of the week\n",
        "    for i in range(int(past_days)):\n",
        "        goal_day = next_day_of_the_week[goal_day]\n",
        "\n",
        "    # Return the goal day of the week as a string with a comma and space prefix\n",
        "    return ', ' + goal_day"
      ],
      "metadata": {
        "id": "hE_WnOklcYP4"
      },
      "execution_count": null,
      "outputs": []
    },
    {
      "cell_type": "code",
      "source": [
        "def add_time(start, duration, day = False):\n",
        "    # Convert the input time strings into integers for further calculations\n",
        "    duration_hour, duration_min = map(int, duration.split(':'))\n",
        "    start_hour, start_min = map(int, start[0:-3].split(':'))\n",
        "\n",
        "    # Check if the start time is in PM and adjust the start_hour accordingly\n",
        "    if start.find('PM') != -1:\n",
        "        start_hour += 12\n",
        "        clock_ = 'PM'\n",
        "    else:\n",
        "        clock_ = 'AM'\n",
        "\n",
        "    # Calculate the total hours and minutes after adding the duration to the start time\n",
        "    hour_total = start_hour + duration_hour\n",
        "    min_total = start_min + duration_min\n",
        "\n",
        "    # If the total minutes is greater than 60, adjust the hours and minutes accordingly\n",
        "    if min_total > 60:\n",
        "        min_total -= 60\n",
        "        hour_total += 1\n",
        "        duration_hour += 1\n",
        "\n",
        "    # Convert the minutes to a formatted string with leading zeros for single-digit minutes\n",
        "    min_total = f'{min_total:02d}'\n",
        "\n",
        "    # Calculate the number of days passed by dividing total hours by 24\n",
        "    days = hour_total // 24\n",
        "\n",
        "    # Loop through the remaining duration hours and adjust the start hour accordingly\n",
        "    while duration_hour != 0:\n",
        "        start_hour += 1\n",
        "        duration_hour -= 1\n",
        "\n",
        "        # If the start hour goes beyond 24, reset it to 1\n",
        "        if start_hour > 24:\n",
        "            start_hour -= 24\n",
        "\n",
        "        # If the start hour is 12 or 24, adjust the clock format (AM/PM)\n",
        "        if start_hour == 12 or start_hour == 24:\n",
        "            clock_ = clock_format_converter[clock_]\n",
        "\n",
        "    # If the start hour is greater than 12, convert it to 12-hour format\n",
        "    if start_hour > 12:\n",
        "        start_hour -= 12\n",
        "\n",
        "    # Get the day of the week based on the number of days passed\n",
        "    day = get_day_of_the_week(int(days), day)\n",
        "\n",
        "    # Construct the new time string with the formatted components\n",
        "    if days > 1:\n",
        "        new_time = f'{round(start_hour)}:{min_total} {clock_}{day} ({round(days)} days later)'\n",
        "    elif days == 1:\n",
        "        new_time = f'{round(start_hour)}:{min_total} {clock_}{day} (next day)'\n",
        "    else:\n",
        "        new_time = f'{round(start_hour)}:{min_total} {clock_}{day}'\n",
        "\n",
        "    return new_time"
      ],
      "metadata": {
        "id": "nSEkmsNUl4w3"
      },
      "execution_count": null,
      "outputs": []
    },
    {
      "cell_type": "markdown",
      "source": [
        "*How to test this code:*"
      ],
      "metadata": {
        "id": "6qVUr-RDd2PL"
      }
    },
    {
      "cell_type": "code",
      "source": [
        "print(add_time(\"11:59 PM\", \"24:05\", \"Wednesday\"))"
      ],
      "metadata": {
        "colab": {
          "base_uri": "https://localhost:8080/"
        },
        "id": "6sVdmfvbd5ZD",
        "outputId": "81d2797b-0b4f-4206-f3bb-45d65906e339"
      },
      "execution_count": null,
      "outputs": [
        {
          "output_type": "stream",
          "name": "stdout",
          "text": [
            "12:04 AM, Friday (2 days later)\n"
          ]
        }
      ]
    },
    {
      "cell_type": "markdown",
      "source": [
        "## **Budget App**\n",
        "Guide: https://www.freecodecamp.org/learn/scientific-computing-with-python/scientific-computing-with-python-projects/budget-app"
      ],
      "metadata": {
        "id": "byBC-FbseL-Z"
      }
    },
    {
      "cell_type": "code",
      "source": [
        "class Category:\n",
        "    # Initialize the Category object with a name and an empty ledger list\n",
        "    def __init__(self, category):\n",
        "        self.name = category\n",
        "        self.ledger = []\n",
        "\n",
        "    # Define the __str__ method to return a formatted string representation of the Category object\n",
        "    def __repr__(self):\n",
        "        max_spaces = 30\n",
        "        ast = '*' * ((max_spaces - len(self.name)) // 2)  # Calculate the number of asterisks needed for title formatting\n",
        "        total = f'Total: {self.get_balance()}'  # Get the total balance of the category\n",
        "        title = f'{ast}{self.name}{ast}'  # Create the title string with asterisks\n",
        "\n",
        "        content = ''\n",
        "        for i in self.ledger:\n",
        "            i['amount'] = ' ' + str(\"%.2f\" % i['amount'])  # Format the amount as a string with 2 decimal places\n",
        "\n",
        "            if i['description'] == '':\n",
        "                i['description'] = 'No description'\n",
        "\n",
        "            desc_ = max_spaces - (len(i['amount']))  # Calculate the number of characters available for the description\n",
        "            sep_ = desc_ - (len(i['description'][0:desc_]))  # Calculate the number of white spaces needed for formatting\n",
        "            white_spaces = ' ' * sep_  # Create a string of white spaces\n",
        "\n",
        "            content += '\\n' + i['description'][0:desc_] + white_spaces + i['amount']  # Format the transaction string\n",
        "\n",
        "        return f'{ast}{self.name}{ast}' + content + '\\n' + total\n",
        "\n",
        "    # Method to add a deposit to the ledger\n",
        "    def deposit(self, amount, description=''):\n",
        "        self.ledger.append({\"amount\": float(amount), \"description\": description})\n",
        "\n",
        "    # Method to add a withdrawal to the ledger\n",
        "    def withdraw(self, amount, description=''):\n",
        "        if self.check_funds(amount):\n",
        "            self.ledger.append({\"amount\": float(-abs(amount)), \"description\": description})\n",
        "            return True\n",
        "        else:\n",
        "            return False\n",
        "\n",
        "    # Method to get the total balance of the category\n",
        "    def get_balance(self):\n",
        "        balance = [item['amount'] for item in self.ledger]\n",
        "        return sum(balance)\n",
        "\n",
        "    # Method to transfer funds from one category to another\n",
        "    def transfer(self, amount, category):\n",
        "        if self.check_funds(amount):\n",
        "            self.withdraw(amount, f'Transfer to {category.name}')\n",
        "            category.deposit(amount, f'Transfer from {self.name}')\n",
        "            return True\n",
        "        else:\n",
        "            return False\n",
        "\n",
        "    # Method to check if there are enough funds in the category for a given amount\n",
        "    def check_funds(self, amount):\n",
        "        if self.get_balance() < amount:\n",
        "            return False\n",
        "        else:\n",
        "            return True\n",
        "\n",
        "    # Method to get the total amount of withdrawals for the category\n",
        "    def get_spend_chart_info(self):\n",
        "        withdraws = [i['amount'] for i in self.ledger if i['amount'] < 0]\n",
        "        return abs(sum(withdraws))"
      ],
      "metadata": {
        "id": "rdpVnuILzsSw"
      },
      "execution_count": null,
      "outputs": []
    },
    {
      "cell_type": "code",
      "source": [
        "def create_spend_chart(categories):\n",
        "    title = 'Percentage spent by category'\n",
        "    lines = ''\n",
        "    letters = ''\n",
        "\n",
        "    # Create a list of percentages in multiples of 10 from 100 to 0\n",
        "    percentages = [i * 10 for i in range(10, -1, -1)]\n",
        "\n",
        "    # Calculate the total withdrawal amount across all categories\n",
        "    total_withdrawal = sum(category.get_spend_chart_info() for category in categories)\n",
        "\n",
        "    # Calculate the nearest multiple of 10 for each category's spend percentage\n",
        "    categories_nearest_ten = [(category.get_spend_chart_info() // (total_withdrawal // 10)) * 10 for category in categories]\n",
        "\n",
        "    porcentage_spacing = 3\n",
        "    for val in percentages:\n",
        "        p_spacing = ' ' * (porcentage_spacing - len(str(val)))\n",
        "        pointers = ''\n",
        "\n",
        "        # Generate the 'o' or ' ' pointers for each category based on spend percentage\n",
        "        for cat_val in categories_nearest_ten:\n",
        "            if cat_val >= val:\n",
        "                pointers += 'o  '\n",
        "            else:\n",
        "                pointers += '   '\n",
        "\n",
        "        # Append the percentage line with pointers to the lines string\n",
        "        lines += f'\\n{p_spacing}{val}| {pointers}'\n",
        "\n",
        "        # Calculate the spacing for the line below the last percentage line\n",
        "        if val == percentages[-1]:\n",
        "            f_spacing = len(f'{p_spacing}{val}| {pointers}') - len(lines[:4])\n",
        "            f_spacing = '\\n' + ' ' * len(lines[:4]) + '-' * f_spacing\n",
        "\n",
        "    # Calculate the maximum length of category names\n",
        "    names_len = [len(category.name) for category in categories]\n",
        "\n",
        "    # Generate the letters corresponding to each category name\n",
        "    for i in range(max(names_len)):\n",
        "        letters += '\\n' + ' ' * 5\n",
        "        for category in categories:\n",
        "            try:\n",
        "                l = category.name[i]\n",
        "            except IndexError:\n",
        "                l = ' '\n",
        "            letters += l + '  '\n",
        "\n",
        "    # Return the final chart string by concatenating title, lines, spacing, and letters\n",
        "    return title + lines + f_spacing + letters"
      ],
      "metadata": {
        "id": "9ssMrE7-0Pwq"
      },
      "execution_count": null,
      "outputs": []
    },
    {
      "cell_type": "markdown",
      "source": [
        "*How to test this code:*"
      ],
      "metadata": {
        "id": "O6CNbvADzljC"
      }
    },
    {
      "cell_type": "code",
      "source": [
        "food = Category(\"Food\")\n",
        "entertainment = Category(\"Entertainment\")\n",
        "business = Category(\"Business\")\n",
        "food.deposit(900, \"deposit\")\n",
        "entertainment.deposit(900, \"deposit\")\n",
        "business.deposit(900, \"deposit\")\n",
        "food.withdraw(105.55)\n",
        "entertainment.withdraw(33.40)\n",
        "business.withdraw(10.99)\n",
        "food, entertainment, business"
      ],
      "metadata": {
        "id": "QdwLBYdUeVJS",
        "colab": {
          "base_uri": "https://localhost:8080/"
        },
        "outputId": "637732df-4179-49e3-8121-867bd3d34f95"
      },
      "execution_count": null,
      "outputs": [
        {
          "output_type": "execute_result",
          "data": {
            "text/plain": [
              "(*************Food*************\n",
              " deposit                 900.00\n",
              " No description         -105.55\n",
              " Total: 794.45,\n",
              " ********Entertainment********\n",
              " deposit                 900.00\n",
              " No description          -33.40\n",
              " Total: 866.6,\n",
              " ***********Business***********\n",
              " deposit                 900.00\n",
              " No description          -10.99\n",
              " Total: 889.01)"
            ]
          },
          "metadata": {},
          "execution_count": 27
        }
      ]
    },
    {
      "cell_type": "code",
      "source": [
        "print(create_spend_chart([business, food, entertainment]))"
      ],
      "metadata": {
        "colab": {
          "base_uri": "https://localhost:8080/"
        },
        "id": "6QJ_9sTI7WAZ",
        "outputId": "500822db-617d-4adf-db49-cf9cbaa967c9"
      },
      "execution_count": null,
      "outputs": [
        {
          "output_type": "stream",
          "name": "stdout",
          "text": [
            "Percentage spent by category\n",
            "100|          \n",
            " 90|          \n",
            " 80|          \n",
            " 70|    o     \n",
            " 60|    o     \n",
            " 50|    o     \n",
            " 40|    o     \n",
            " 30|    o     \n",
            " 20|    o  o  \n",
            " 10|    o  o  \n",
            "  0| o  o  o  \n",
            "    ----------\n",
            "     B  F  E  \n",
            "     u  o  n  \n",
            "     s  o  t  \n",
            "     i  d  e  \n",
            "     n     r  \n",
            "     e     t  \n",
            "     s     a  \n",
            "     s     i  \n",
            "           n  \n",
            "           m  \n",
            "           e  \n",
            "           n  \n",
            "           t  \n"
          ]
        }
      ]
    },
    {
      "cell_type": "markdown",
      "source": [
        "## **Polygon Area Calculator**\n",
        "Guide: https://www.freecodecamp.org/learn/scientific-computing-with-python/scientific-computing-with-python-projects/polygon-area-calculator\n"
      ],
      "metadata": {
        "id": "48W8IvGcSz7A"
      }
    },
    {
      "cell_type": "code",
      "source": [
        "class Rectangle:\n",
        "  # Define the constructor for the Rectangle class\n",
        "  def __init__(self, width, height):\n",
        "    self.width = width  # Set the width instance variable\n",
        "    self.height= height  # Set the height instance variable\n",
        "\n",
        "  # Define the string representation of the Rectangle object\n",
        "  def __str__(self):\n",
        "    return f'Rectangle(width={self.width}, height={self.height})'\n",
        "\n",
        "  # Define the set_width method to change the width instance variable\n",
        "  def set_width(self, width):\n",
        "    self.width = width\n",
        "\n",
        "  # Define the set_height method to change the height instance variable\n",
        "  def set_height(self, height):\n",
        "    self.height = height\n",
        "\n",
        "  # Define the get_area method to calculate the area of the rectangle\n",
        "  def get_area(self):\n",
        "    return self.width * self.height\n",
        "\n",
        "  # Define the get_perimeter method to calculate the perimeter of the rectangle\n",
        "  def get_perimeter(self):\n",
        "    return 2 * self.width + 2 * self.height\n",
        "\n",
        "  # Define the get_diagonal method to calculate the diagonal of the rectangle\n",
        "  def get_diagonal(self):\n",
        "    return (self.width ** 2 + self.height ** 2) ** 0.5\n",
        "\n",
        "  # Define the get_picture method to create a visual representation of the rectangle\n",
        "  def get_picture(self):\n",
        "    # Check if the rectangle is too big to be represented visually\n",
        "    if self.height > 50 or self.width > 50:\n",
        "      return 'Too big for picture.'\n",
        "\n",
        "    # Create a string representing the rectangle's visual representation\n",
        "    figure = ''\n",
        "    for h in range(self.height):\n",
        "      figure += ('*' * self.width)+'\\n'\n",
        "\n",
        "    return figure\n",
        "\n",
        "  # Define the get_amount_inside method to calculate how many times a given shape can fit inside the rectangle\n",
        "  def get_amount_inside(self, shape):\n",
        "    # Check if the given shape is a square\n",
        "    if shape.height == shape.width:\n",
        "      # If the given shape is a square, calculate how many times it can fit inside the rectangle\n",
        "      check_height = self.height // shape.width\n",
        "      check_width = self.width // shape.width\n",
        "    else:\n",
        "      # If the given shape is a rectangle, calculate how many times it can fit inside the rectangle\n",
        "      check_height = self.height // shape.height\n",
        "      check_width = self.width // shape.width\n",
        "\n",
        "    return check_height * check_width"
      ],
      "metadata": {
        "id": "i87Gw4NvS_Te"
      },
      "execution_count": null,
      "outputs": []
    },
    {
      "cell_type": "code",
      "source": [
        "class Square(Rectangle):\n",
        "  def __init__(self, side):\n",
        "    # Call the constructor of the parent class with two equal side lengths\n",
        "    super().__init__(side, side)\n",
        "\n",
        "  def __str__(self):\n",
        "    # Override the __str__ method of the parent class to display \"side\" instead of \"width\"\n",
        "    return f'Square(side={self.width})'\n",
        "\n",
        "  def set_side(self, side):\n",
        "    # Update both the width and height attributes with the new side length\n",
        "    self.width = side\n",
        "    self.height = side\n",
        "\n",
        "  def set_width(self, side):\n",
        "    # Use the set_side method to set both the width and height attributes\n",
        "    self.set_side(side)\n",
        "\n",
        "  def set_height(self, side):\n",
        "    # Use the set_side method to set both the width and height attributes\n",
        "    self.set_side(side)"
      ],
      "metadata": {
        "id": "ox2_ch4cTY9m"
      },
      "execution_count": null,
      "outputs": []
    },
    {
      "cell_type": "markdown",
      "source": [
        "*How to test this code:*"
      ],
      "metadata": {
        "id": "qAKQBR99TFiJ"
      }
    },
    {
      "cell_type": "code",
      "source": [
        "rect = Rectangle(10, 5)\n",
        "print(rect.get_area())\n",
        "rect.set_height(3)\n",
        "print(rect.get_perimeter())\n",
        "print(rect)\n",
        "print(rect.get_picture())\n",
        "\n",
        "sq = Square(9)\n",
        "print(sq.get_area())\n",
        "sq.set_side(4)\n",
        "print(sq.get_diagonal())\n",
        "print(sq)\n",
        "print(sq.get_picture())\n",
        "\n",
        "rect.set_height(8)\n",
        "rect.set_width(16)\n",
        "print(rect.get_amount_inside(sq))"
      ],
      "metadata": {
        "colab": {
          "base_uri": "https://localhost:8080/"
        },
        "id": "UQyO5EZPTGFi",
        "outputId": "109b3a31-9ec0-43a7-f0d8-99620f361b4f"
      },
      "execution_count": null,
      "outputs": [
        {
          "output_type": "stream",
          "name": "stdout",
          "text": [
            "50\n",
            "26\n",
            "Rectangle(width=10, height=3)\n",
            "**********\n",
            "**********\n",
            "**********\n",
            "\n",
            "81\n",
            "5.656854249492381\n",
            "Square(side=4)\n",
            "****\n",
            "****\n",
            "****\n",
            "****\n",
            "\n",
            "8\n"
          ]
        }
      ]
    },
    {
      "cell_type": "markdown",
      "source": [
        "## **Probability Calculator**\n",
        "Guide: https://www.freecodecamp.org/learn/scientific-computing-with-python/scientific-computing-with-python-projects/probability-calculator"
      ],
      "metadata": {
        "id": "r1u5GqNXv4Bo"
      }
    },
    {
      "cell_type": "code",
      "source": [
        "import copy  # Importing the 'copy' module for future use.\n",
        "import random  # Importing the 'random' module to generate random samples.\n",
        "\n",
        "class Hat:\n",
        "    def __init__(self, **args):\n",
        "        # Initialize the contents of the hat using the 'generate_content' method.\n",
        "        self.contents = self.generate_content(args)\n",
        "\n",
        "    def set_contents(self, contents):\n",
        "        # Set the contents of the hat to the passed 'contents' list.\n",
        "        self.contents = contents\n",
        "\n",
        "    def generate_content(self, args):\n",
        "        # Generate a list of contents using the keys and values of the 'args' dictionary.\n",
        "        # The contents will be repeated as many times as the value associated with each key.\n",
        "        return [key for key, value in args.items() for _ in range(value)]\n",
        "\n",
        "    def draw(self, balls_to_draw):\n",
        "        # If the number of balls to draw is greater than the total number of balls in the hat,\n",
        "        # return the entire contents of the hat.\n",
        "        if balls_to_draw > len(self.contents):\n",
        "            return self.contents\n",
        "\n",
        "        # Otherwise, randomly select balls_to_draw number of balls from the hat.\n",
        "        to_delete = random.sample(self.contents, balls_to_draw)\n",
        "\n",
        "        # Remove the selected balls from the contents of the hat.\n",
        "        [self.contents.remove(it) for it in to_delete]\n",
        "\n",
        "        return to_delete  # Return the selected balls."
      ],
      "metadata": {
        "id": "9zGTbiTUwFi6"
      },
      "execution_count": null,
      "outputs": []
    },
    {
      "cell_type": "code",
      "source": [
        "def experiment(hat, expected_balls, num_balls_drawn, num_experiments):\n",
        "  successful_experiment = 0\n",
        "\n",
        "  # Loop through the number of experiments to perform\n",
        "  for experiment in range(num_experiments):\n",
        "    contents_ = copy.deepcopy(hat.contents)\n",
        "\n",
        "    # Create a list of expected balls based on the input dictionary\n",
        "    expected_balls_ = [key for key, value in expected_balls.items() for _ in range(value)]\n",
        "\n",
        "    # Draw the specified number of balls from the hat\n",
        "    draw_ = hat.draw(num_balls_drawn)\n",
        "\n",
        "    # Check if each expected ball is in the draw, and remove it if it is\n",
        "    for item in expected_balls_.copy():\n",
        "      if item in draw_:\n",
        "        draw_.pop(draw_.index(item))\n",
        "        expected_balls_.pop(expected_balls_.index(item))\n",
        "\n",
        "    # If all expected balls were drawn, increment the successful_experiment counter\n",
        "    if not expected_balls_:\n",
        "      successful_experiment += 1\n",
        "\n",
        "    # Reset the contents of the hat to the original values\n",
        "    hat.set_contents(contents_)\n",
        "\n",
        "  # Calculate and return the probability of a successful experiment\n",
        "  return successful_experiment/num_experiments"
      ],
      "metadata": {
        "id": "L3I5uCp4wfCQ"
      },
      "execution_count": null,
      "outputs": []
    },
    {
      "cell_type": "markdown",
      "source": [
        "*How to test this code:*"
      ],
      "metadata": {
        "id": "Mn2hax7iwGKJ"
      }
    },
    {
      "cell_type": "code",
      "source": [
        "random.seed(95)\n",
        "hat = Hat(yellow=5,red=1,green=3,blue=9,test=1)\n",
        "probability = experiment(hat=hat, expected_balls={\"yellow\":2,\"blue\":3,\"test\":1}, num_balls_drawn=20, num_experiments=100)\n",
        "print(\"Probability:\", probability)"
      ],
      "metadata": {
        "colab": {
          "base_uri": "https://localhost:8080/"
        },
        "id": "BtOf-vUdwGhI",
        "outputId": "0dff5ee2-ac10-45be-b3cc-f329d204904b"
      },
      "execution_count": null,
      "outputs": [
        {
          "output_type": "stream",
          "name": "stdout",
          "text": [
            "Probability: 1.0\n"
          ]
        }
      ]
    },
    {
      "cell_type": "markdown",
      "source": [
        "### **My badget of accomplishment** <https://www.freecodecamp.org/certification/ramonalvarez/scientific-computing-with-python-v7>"
      ],
      "metadata": {
        "id": "U50oVbOyw97X"
      }
    },
    {
      "cell_type": "markdown",
      "source": [
        "## ***Please do not use this code compilation to resolve the challenges and getting the freeCodeCamp certifications claiming that these codes as yours.***"
      ],
      "metadata": {
        "id": "_-uZk5oZnUTG"
      }
    },
    {
      "cell_type": "markdown",
      "source": [
        "## ***How to do a simple web browser in Python:***"
      ],
      "metadata": {
        "id": "vfhEkJCVh2k7"
      }
    },
    {
      "cell_type": "code",
      "source": [
        "import socket\n",
        "\n",
        "mysock = socket.socket(socket.AF_INET, socket.SOCK_STREAM)\n",
        "mysock.connect(('data.pr4e.org', 80))\n",
        "cmd = 'GET http://data.pr4e.org/romeo.txt HTTP/1.0\\r\\n\\r\\n'.encode()\n",
        "mysock.send(cmd)\n",
        "\n",
        "while True:\n",
        "    data = mysock.recv(512)\n",
        "    if len(data) < 1:\n",
        "        break\n",
        "    print(data.decode(),end='')\n",
        "mysock.close()"
      ],
      "metadata": {
        "colab": {
          "base_uri": "https://localhost:8080/"
        },
        "id": "jn8YW7ZRgBwq",
        "outputId": "c3e8ac23-f3e3-4abc-eb05-cb7d4c09fbaf"
      },
      "execution_count": null,
      "outputs": [
        {
          "output_type": "stream",
          "name": "stdout",
          "text": [
            "HTTP/1.1 200 OK\r\n",
            "Date: Mon, 22 May 2023 23:49:56 GMT\r\n",
            "Server: Apache/2.4.18 (Ubuntu)\r\n",
            "Last-Modified: Sat, 13 May 2017 11:22:22 GMT\r\n",
            "ETag: \"a7-54f6609245537\"\r\n",
            "Accept-Ranges: bytes\r\n",
            "Content-Length: 167\r\n",
            "Cache-Control: max-age=0, no-cache, no-store, must-revalidate\r\n",
            "Pragma: no-cache\r\n",
            "Expires: Wed, 11 Jan 1984 05:00:00 GMT\r\n",
            "Connection: close\r\n",
            "Content-Type: text/plain\r\n",
            "\r\n",
            "But soft what light through yonder window breaks\n",
            "It is the east and Juliet is the sun\n",
            "Arise fair sun and kill the envious moon\n",
            "Who is already sick and pale with grief\n"
          ]
        }
      ]
    },
    {
      "cell_type": "markdown",
      "source": [
        "**Using urlib to return only the content of a web browser**"
      ],
      "metadata": {
        "id": "muzJH4Af3wHu"
      }
    },
    {
      "cell_type": "code",
      "source": [
        "import urllib.request\n",
        "\n",
        "fhand = urllib.request.urlopen('http://data.pr4e.org/romeo.txt')\n",
        "for line in fhand:\n",
        "    print(line.decode().strip())"
      ],
      "metadata": {
        "colab": {
          "base_uri": "https://localhost:8080/"
        },
        "id": "a1Vf92YY3nai",
        "outputId": "cc0e930f-7bf6-435f-9b5c-8835b2c07101"
      },
      "execution_count": null,
      "outputs": [
        {
          "output_type": "stream",
          "name": "stdout",
          "text": [
            "But soft what light through yonder window breaks\n",
            "It is the east and Juliet is the sun\n",
            "Arise fair sun and kill the envious moon\n",
            "Who is already sick and pale with grief\n"
          ]
        }
      ]
    },
    {
      "cell_type": "markdown",
      "source": [
        "## ***How to Web Scraping:***"
      ],
      "metadata": {
        "id": "OOjGdlODBxLy"
      }
    },
    {
      "cell_type": "code",
      "source": [
        "# %pip install beautifulsoup4"
      ],
      "metadata": {
        "id": "XekpE2DrCBrp"
      },
      "execution_count": null,
      "outputs": []
    },
    {
      "cell_type": "code",
      "source": [
        "import urllib.request, urllib.parse, urllib.error\n",
        "import ssl\n",
        "from bs4 import BeautifulSoup\n",
        "\n",
        "#Ignore SSL certificate errors\n",
        "ctx = ssl.create_default_context()\n",
        "ctx.check_hostname = False\n",
        "ctx.verify_mode = ssl.CERT_NONE\n",
        "\n",
        "url = input('Enter: ')\n",
        "html = urllib.request.urlopen(url, context=ctx).read()\n",
        "soup = BeautifulSoup(html, 'html.parser')\n",
        "\n",
        "tags = soup('a')\n",
        "for tag in tags:\n",
        "  print(tag.get('href', None))"
      ],
      "metadata": {
        "colab": {
          "base_uri": "https://localhost:8080/"
        },
        "id": "Hqp8C9BhzQBd",
        "outputId": "021bcd33-2ffa-4ecf-efdb-1157aad8d3c6"
      },
      "execution_count": null,
      "outputs": [
        {
          "output_type": "stream",
          "name": "stdout",
          "text": [
            "Enter: http://www.dr-chuck.com/page1.htm\n",
            "http://www.dr-chuck.com/page2.htm\n"
          ]
        }
      ]
    }
  ]
}